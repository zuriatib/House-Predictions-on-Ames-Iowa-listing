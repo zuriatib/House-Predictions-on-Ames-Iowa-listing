{
 "cells": [
  {
   "cell_type": "code",
   "execution_count": 1,
   "metadata": {},
   "outputs": [],
   "source": [
    "import pandas as pd\n",
    "import numpy as np\n",
    "import matplotlib.pyplot as plt\n",
    "import seaborn as sns\n",
    "sns.set()\n",
    "%matplotlib inline"
   ]
  },
  {
   "cell_type": "markdown",
   "metadata": {},
   "source": [
    "## Task 1"
   ]
  },
  {
   "cell_type": "code",
   "execution_count": 2,
   "metadata": {},
   "outputs": [],
   "source": [
    "df = pd.read_csv('task-1.csv')"
   ]
  },
  {
   "cell_type": "code",
   "execution_count": 273,
   "metadata": {},
   "outputs": [
    {
     "data": {
      "text/html": [
       "<div>\n",
       "<style scoped>\n",
       "    .dataframe tbody tr th:only-of-type {\n",
       "        vertical-align: middle;\n",
       "    }\n",
       "\n",
       "    .dataframe tbody tr th {\n",
       "        vertical-align: top;\n",
       "    }\n",
       "\n",
       "    .dataframe thead th {\n",
       "        text-align: right;\n",
       "    }\n",
       "</style>\n",
       "<table border=\"1\" class=\"dataframe\">\n",
       "  <thead>\n",
       "    <tr style=\"text-align: right;\">\n",
       "      <th></th>\n",
       "      <th>x</th>\n",
       "      <th>y</th>\n",
       "    </tr>\n",
       "  </thead>\n",
       "  <tbody>\n",
       "    <tr>\n",
       "      <th>0</th>\n",
       "      <td>10.529</td>\n",
       "      <td>39.105</td>\n",
       "    </tr>\n",
       "    <tr>\n",
       "      <th>1</th>\n",
       "      <td>10.799</td>\n",
       "      <td>40.584</td>\n",
       "    </tr>\n",
       "    <tr>\n",
       "      <th>2</th>\n",
       "      <td>11.698</td>\n",
       "      <td>39.883</td>\n",
       "    </tr>\n",
       "    <tr>\n",
       "      <th>3</th>\n",
       "      <td>12.851</td>\n",
       "      <td>39.411</td>\n",
       "    </tr>\n",
       "    <tr>\n",
       "      <th>4</th>\n",
       "      <td>13.565</td>\n",
       "      <td>40.760</td>\n",
       "    </tr>\n",
       "  </tbody>\n",
       "</table>\n",
       "</div>"
      ],
      "text/plain": [
       "        x       y\n",
       "0  10.529  39.105\n",
       "1  10.799  40.584\n",
       "2  11.698  39.883\n",
       "3  12.851  39.411\n",
       "4  13.565  40.760"
      ]
     },
     "execution_count": 273,
     "metadata": {},
     "output_type": "execute_result"
    }
   ],
   "source": [
    "df.head()"
   ]
  },
  {
   "cell_type": "code",
   "execution_count": 274,
   "metadata": {},
   "outputs": [
    {
     "data": {
      "text/plain": [
       "(50, 2)"
      ]
     },
     "execution_count": 274,
     "metadata": {},
     "output_type": "execute_result"
    }
   ],
   "source": [
    "df.shape"
   ]
  },
  {
   "cell_type": "code",
   "execution_count": 3,
   "metadata": {},
   "outputs": [],
   "source": [
    "x = df.x.values\n",
    "y = df.y.values"
   ]
  },
  {
   "cell_type": "code",
   "execution_count": 4,
   "metadata": {},
   "outputs": [
    {
     "data": {
      "image/png": "[encoded data removed]",
      "text/plain": [
       "<matplotlib.figure.Figure at 0x1e8438a30b8>"
      ]
     },
     "metadata": {},
     "output_type": "display_data"
    }
   ],
   "source": [
    "plt.scatter(x,y)\n",
    "plt.show()"
   ]
  },
  {
   "cell_type": "code",
   "execution_count": 5,
   "metadata": {},
   "outputs": [
    {
     "name": "stdout",
     "output_type": "stream",
     "text": [
      "A 3.39     B 31.53\n"
     ]
    }
   ],
   "source": [
    "#apply log functions to actual x-values\n",
    "\n",
    "x_log = np.log(x)\n",
    "coefs = np.polyfit(x_log,y,deg=1)\n",
    "a,b = coefs\n",
    "print('A {:.2f}     B {:.2f}'.format(a, b))"
   ]
  },
  {
   "cell_type": "code",
   "execution_count": 279,
   "metadata": {},
   "outputs": [],
   "source": [
    "#x and y values for model with 50 data points.\n",
    "x_values = np.linspace(x.min(),x.max(),num=50)\n",
    "y_values = np.polyval(coefs,np.log(x_values))"
   ]
  },
  {
   "cell_type": "code",
   "execution_count": 281,
   "metadata": {},
   "outputs": [
    {
     "data": {
      "image/png": "[encoded data removed]",
      "text/plain": [
       "<matplotlib.figure.Figure at 0x2d0a1733da0>"
      ]
     },
     "metadata": {},
     "output_type": "display_data"
    }
   ],
   "source": [
    "plt.scatter(x,y)\n",
    "plt.plot(x_values,y_values,label='Polyfit(log(x),deg=1)',c='r')\n",
    "plt.xlabel('x values')\n",
    "plt.ylabel('y values')\n",
    "plt.legend()\n",
    "plt.show()"
   ]
  },
  {
   "cell_type": "code",
   "execution_count": 14,
   "metadata": {},
   "outputs": [
    {
     "name": "stdout",
     "output_type": "stream",
     "text": [
      "RSS baseline: 541.14328722\n",
      "RSS model: 31.8426517528\n"
     ]
    }
   ],
   "source": [
    "# Define RSS measure\n",
    "def RSS(y, y_pred):\n",
    "    return np.sum(np.square(y - y_pred))\n",
    "\n",
    "# RSS of the baseline\n",
    "rss_baseline = RSS(y, np.mean(y))\n",
    "print ('RSS baseline:', rss_baseline)\n",
    "\n",
    "# Compute predictions for each data point\n",
    "y_pred_rss = np.polyval(coefs,x_log)\n",
    "rss_model = RSS(y,y_pred_rss)\n",
    "print ('RSS model:',rss_model)"
   ]
  },
  {
   "cell_type": "code",
   "execution_count": 15,
   "metadata": {},
   "outputs": [
    {
     "name": "stdout",
     "output_type": "stream",
     "text": [
      "R2 Coefficient: 0.941156709314\n"
     ]
    }
   ],
   "source": [
    "R2 = 1-(rss_model/rss_baseline)\n",
    "print ('R2 Coefficient:',R2)"
   ]
  },
  {
   "cell_type": "markdown",
   "metadata": {},
   "source": [
    "#### How does the polyfit function finds the optimal parameters?\n",
    "\n",
    "It finds the optimal parameters by minimizing the squared errors over a set of data points. This squared error is calculated by getting the sum of the squared error of the residuals. Residuals is referred to the differece between the actual y value and the predicted y value."
   ]
  },
  {
   "cell_type": "markdown",
   "metadata": {},
   "source": [
    "#### What are the 2 differences between the polyfit function and the gradient descent?\n",
    "\n",
    "    1) Gradient descent algorithm is based on MSE calculations, ie Mean Squared Error.\n",
    "    2) It is an iterative algorithm that takes small steps in the opposite direction, and uses a learning rate to obtain the optimal parameters."
   ]
  },
  {
   "cell_type": "markdown",
   "metadata": {},
   "source": [
    "## Task 2"
   ]
  },
  {
   "cell_type": "code",
   "execution_count": 81,
   "metadata": {},
   "outputs": [],
   "source": [
    "df2 = pd.read_csv('task-2.csv')"
   ]
  },
  {
   "cell_type": "code",
   "execution_count": 82,
   "metadata": {},
   "outputs": [
    {
     "data": {
      "text/html": [
       "<div>\n",
       "<style scoped>\n",
       "    .dataframe tbody tr th:only-of-type {\n",
       "        vertical-align: middle;\n",
       "    }\n",
       "\n",
       "    .dataframe tbody tr th {\n",
       "        vertical-align: top;\n",
       "    }\n",
       "\n",
       "    .dataframe thead th {\n",
       "        text-align: right;\n",
       "    }\n",
       "</style>\n",
       "<table border=\"1\" class=\"dataframe\">\n",
       "  <thead>\n",
       "    <tr style=\"text-align: right;\">\n",
       "      <th></th>\n",
       "      <th>x1</th>\n",
       "      <th>x2</th>\n",
       "      <th>x3</th>\n",
       "      <th>y</th>\n",
       "    </tr>\n",
       "  </thead>\n",
       "  <tbody>\n",
       "    <tr>\n",
       "      <th>0</th>\n",
       "      <td>7.892</td>\n",
       "      <td>318.818</td>\n",
       "      <td>162.970</td>\n",
       "      <td>2112.420</td>\n",
       "    </tr>\n",
       "    <tr>\n",
       "      <th>1</th>\n",
       "      <td>8.830</td>\n",
       "      <td>303.180</td>\n",
       "      <td>181.399</td>\n",
       "      <td>2096.231</td>\n",
       "    </tr>\n",
       "    <tr>\n",
       "      <th>2</th>\n",
       "      <td>13.811</td>\n",
       "      <td>296.231</td>\n",
       "      <td>145.849</td>\n",
       "      <td>2067.045</td>\n",
       "    </tr>\n",
       "    <tr>\n",
       "      <th>3</th>\n",
       "      <td>12.863</td>\n",
       "      <td>325.830</td>\n",
       "      <td>167.996</td>\n",
       "      <td>2269.262</td>\n",
       "    </tr>\n",
       "    <tr>\n",
       "      <th>4</th>\n",
       "      <td>13.698</td>\n",
       "      <td>254.035</td>\n",
       "      <td>171.892</td>\n",
       "      <td>1966.604</td>\n",
       "    </tr>\n",
       "  </tbody>\n",
       "</table>\n",
       "</div>"
      ],
      "text/plain": [
       "       x1       x2       x3         y\n",
       "0   7.892  318.818  162.970  2112.420\n",
       "1   8.830  303.180  181.399  2096.231\n",
       "2  13.811  296.231  145.849  2067.045\n",
       "3  12.863  325.830  167.996  2269.262\n",
       "4  13.698  254.035  171.892  1966.604"
      ]
     },
     "execution_count": 82,
     "metadata": {},
     "output_type": "execute_result"
    }
   ],
   "source": [
    "df2.head()"
   ]
  },
  {
   "cell_type": "code",
   "execution_count": 83,
   "metadata": {},
   "outputs": [
    {
     "name": "stdout",
     "output_type": "stream",
     "text": [
      "Shape of dataset: (1000, 4)\n"
     ]
    }
   ],
   "source": [
    "print ('Shape of dataset:', df2.shape)"
   ]
  },
  {
   "cell_type": "code",
   "execution_count": 85,
   "metadata": {},
   "outputs": [],
   "source": [
    "x1 = df2.x1.values\n",
    "x2 = df2.x2.values\n",
    "x3 = df2.x3.values\n",
    "X = df2.drop('y',axis=1).values\n",
    "y = df2.y.values"
   ]
  },
  {
   "cell_type": "code",
   "execution_count": 27,
   "metadata": {},
   "outputs": [
    {
     "data": {
      "image/png": "[encoded data removed]",
      "text/plain": [
       "<matplotlib.figure.Figure at 0x2d09aae91d0>"
      ]
     },
     "metadata": {},
     "output_type": "display_data"
    }
   ],
   "source": [
    "plt.scatter(x1,y,label='x1')\n",
    "plt.scatter(x2,y,c='gold',label='x2')\n",
    "plt.scatter(x3,y,c='green',label='x3')\n",
    "plt.legend()\n",
    "plt.show()"
   ]
  },
  {
   "cell_type": "code",
   "execution_count": 30,
   "metadata": {},
   "outputs": [],
   "source": [
    "from sklearn.model_selection import train_test_split\n",
    "from sklearn.linear_model import LinearRegression"
   ]
  },
  {
   "cell_type": "code",
   "execution_count": 38,
   "metadata": {},
   "outputs": [],
   "source": [
    "X_train, X_test, y_train, y_test = train_test_split(X,y,train_size=0.8,test_size=0.2,random_state=0)"
   ]
  },
  {
   "cell_type": "code",
   "execution_count": 41,
   "metadata": {},
   "outputs": [
    {
     "name": "stdout",
     "output_type": "stream",
     "text": [
      "Coefficients: [ 3.18946219  0.72611244 -0.29586984]\n",
      "Intercept: 1982.19641603\n"
     ]
    }
   ],
   "source": [
    "lr = LinearRegression()\n",
    "lr.fit(X_train,y_train)\n",
    "print ('Coefficients:', lr.coef_)\n",
    "print ('Intercept:', lr.intercept_)"
   ]
  },
  {
   "cell_type": "code",
   "execution_count": 42,
   "metadata": {},
   "outputs": [],
   "source": [
    "from sklearn.metrics import mean_absolute_error as mae"
   ]
  },
  {
   "cell_type": "code",
   "execution_count": 261,
   "metadata": {},
   "outputs": [
    {
     "name": "stdout",
     "output_type": "stream",
     "text": [
      "Mean Absolute Error on test set: 105\n"
     ]
    }
   ],
   "source": [
    "y_test_pred = lr.predict(X_test)\n",
    "print('Mean Absolute Error on test set: {:.0f}'.format(mae(y_test, y_test_pred)))"
   ]
  },
  {
   "cell_type": "markdown",
   "metadata": {},
   "source": [
    "#### Removing outliers from train set"
   ]
  },
  {
   "cell_type": "code",
   "execution_count": 121,
   "metadata": {},
   "outputs": [],
   "source": [
    "import seaborn as sns\n",
    "sns.set()"
   ]
  },
  {
   "cell_type": "code",
   "execution_count": 215,
   "metadata": {},
   "outputs": [],
   "source": [
    "df_train = pd.DataFrame(np.c_[X_train,y_train],columns=['x1','x2','x3','y'])"
   ]
  },
  {
   "cell_type": "code",
   "execution_count": 240,
   "metadata": {},
   "outputs": [
    {
     "data": {
      "image/png": "[encoded data removed]",
      "text/plain": [
       "<matplotlib.figure.Figure at 0x2d0a48e9ba8>"
      ]
     },
     "metadata": {},
     "output_type": "display_data"
    }
   ],
   "source": [
    "plt.scatter(data=df_train,x=x1,y=y,label='x1')\n",
    "plt.scatter(data=df_train,x=x2,y=y,c='gold',label='x2')\n",
    "plt.scatter(data=df_train,x=x3,y=y,c='green',label='x3')\n",
    "plt.title('Train Set')\n",
    "plt.legend()\n",
    "plt.show()"
   ]
  },
  {
   "cell_type": "code",
   "execution_count": 241,
   "metadata": {},
   "outputs": [
    {
     "data": {
      "image/png": "[encoded data removed]",
      "text/plain": [
       "<matplotlib.figure.Figure at 0x2d0a330b7f0>"
      ]
     },
     "metadata": {},
     "output_type": "display_data"
    }
   ],
   "source": [
    "fig, axes = plt.subplots(1, 3,sharey='row',figsize=(15,6))\n",
    "axes[0].hist(data=df_train,x=x1,bins=15)\n",
    "axes[0].set_xlabel('x1')\n",
    "axes[0].set_xlim(-10,50)\n",
    "\n",
    "axes[1].hist(data=df_train,x=x2,bins=15)\n",
    "axes[1].set_xlabel('x2')\n",
    "axes[1].set_xlim(200,500)\n",
    "\n",
    "axes[2].hist(data=df_train,x=x3,bins=15)\n",
    "axes[2].set_xlabel('x3')\n",
    "axes[2].set_xlim(100,200)\n",
    "\n",
    "fig.suptitle('Distribution of X values',ha='center')\n",
    "plt.show()"
   ]
  },
  {
   "cell_type": "markdown",
   "metadata": {},
   "source": [
    "#### Based on the histograms above, here are my selections for selecting 'normal points'"
   ]
  },
  {
   "cell_type": "code",
   "execution_count": 248,
   "metadata": {},
   "outputs": [
    {
     "data": {
      "text/plain": [
       "(800, 4)"
      ]
     },
     "execution_count": 248,
     "metadata": {},
     "output_type": "execute_result"
    }
   ],
   "source": [
    "df_train.shape"
   ]
  },
  {
   "cell_type": "code",
   "execution_count": 244,
   "metadata": {},
   "outputs": [],
   "source": [
    "x1_tr_norm = df_train.x1.values\n",
    "x2_tr_norm = df_train.x2.values\n",
    "x3_tr_norm = df_train.x3.values"
   ]
  },
  {
   "cell_type": "code",
   "execution_count": 249,
   "metadata": {},
   "outputs": [],
   "source": [
    "#extracting 'normal points'\n",
    "df_train_norm = df_train[((x1_tr_norm > 0) & (x1_tr_norm < 20)) | ((x2_tr_norm > 210) & (x2_tr_norm < 390)) | \n",
    "                ((x3_tr_norm > 110) & (x3_tr_norm < 180))]"
   ]
  },
  {
   "cell_type": "code",
   "execution_count": 251,
   "metadata": {
    "scrolled": true
   },
   "outputs": [
    {
     "data": {
      "text/plain": [
       "(779, 4)"
      ]
     },
     "execution_count": 251,
     "metadata": {},
     "output_type": "execute_result"
    }
   ],
   "source": [
    "df_train_norm.shape"
   ]
  },
  {
   "cell_type": "code",
   "execution_count": 253,
   "metadata": {},
   "outputs": [],
   "source": [
    "X_tr_norm = df_train_norm.drop('y',axis=1).values\n",
    "y_tr_norm = df_train_norm.y.values"
   ]
  },
  {
   "cell_type": "code",
   "execution_count": 254,
   "metadata": {},
   "outputs": [
    {
     "name": "stdout",
     "output_type": "stream",
     "text": [
      "Coefficient: [ 5.03132338  1.04890767 -0.05606839]\n",
      "Intercept: 1818.7539038\n"
     ]
    }
   ],
   "source": [
    "lr_tr_norm = LinearRegression()\n",
    "lr_tr_norm.fit(X_tr_norm,y_tr_norm)\n",
    "print ('Coefficient:',lr_tr_norm.coef_)\n",
    "print ('Intercept:',lr_tr_norm.intercept_)"
   ]
  },
  {
   "cell_type": "code",
   "execution_count": 285,
   "metadata": {},
   "outputs": [
    {
     "name": "stdout",
     "output_type": "stream",
     "text": [
      "Mean Absolute Error on test set w/o outliers: 99\n"
     ]
    }
   ],
   "source": [
    "y_test_pred = lr_tr_norm.predict(X_test)\n",
    "print('Mean Absolute Error on test set w/o outliers: {:.0f}'.format(mae(y_test, y_test_pred)))"
   ]
  },
  {
   "cell_type": "markdown",
   "metadata": {},
   "source": [
    "#### Huber Loss with train points with outliers"
   ]
  },
  {
   "cell_type": "code",
   "execution_count": 256,
   "metadata": {},
   "outputs": [],
   "source": [
    "from sklearn.linear_model import HuberRegressor"
   ]
  },
  {
   "cell_type": "code",
   "execution_count": 257,
   "metadata": {},
   "outputs": [
    {
     "name": "stdout",
     "output_type": "stream",
     "text": [
      "Coefficients: [ 11.70103561   2.21157024  -0.3504923 ]\n",
      "Intercept: 1413.36199078\n"
     ]
    }
   ],
   "source": [
    "hr = HuberRegressor()\n",
    "hr.fit(X_train,y_train)\n",
    "print ('Coefficients:', hr.coef_)\n",
    "print ('Intercept:', hr.intercept_)"
   ]
  },
  {
   "cell_type": "code",
   "execution_count": 259,
   "metadata": {},
   "outputs": [
    {
     "name": "stdout",
     "output_type": "stream",
     "text": [
      "Mean Absolute Error of Huber loss: 84\n"
     ]
    }
   ],
   "source": [
    "y_test_hr = hr.predict(X_test)\n",
    "print('Mean Absolute Error of Huber loss: {:.0f}'.format(mae(y_test, y_test_hr)))"
   ]
  },
  {
   "cell_type": "markdown",
   "metadata": {},
   "source": [
    "## Task 3"
   ]
  },
  {
   "cell_type": "code",
   "execution_count": 7,
   "metadata": {},
   "outputs": [],
   "source": [
    "df3 = pd.read_csv('task-3.csv')"
   ]
  },
  {
   "cell_type": "code",
   "execution_count": 402,
   "metadata": {},
   "outputs": [
    {
     "data": {
      "text/html": [
       "<div>\n",
       "<style scoped>\n",
       "    .dataframe tbody tr th:only-of-type {\n",
       "        vertical-align: middle;\n",
       "    }\n",
       "\n",
       "    .dataframe tbody tr th {\n",
       "        vertical-align: top;\n",
       "    }\n",
       "\n",
       "    .dataframe thead th {\n",
       "        text-align: right;\n",
       "    }\n",
       "</style>\n",
       "<table border=\"1\" class=\"dataframe\">\n",
       "  <thead>\n",
       "    <tr style=\"text-align: right;\">\n",
       "      <th></th>\n",
       "      <th>x</th>\n",
       "      <th>y</th>\n",
       "    </tr>\n",
       "  </thead>\n",
       "  <tbody>\n",
       "    <tr>\n",
       "      <th>0</th>\n",
       "      <td>3.588</td>\n",
       "      <td>0.473</td>\n",
       "    </tr>\n",
       "    <tr>\n",
       "      <th>1</th>\n",
       "      <td>3.551</td>\n",
       "      <td>0.784</td>\n",
       "    </tr>\n",
       "    <tr>\n",
       "      <th>2</th>\n",
       "      <td>3.610</td>\n",
       "      <td>0.847</td>\n",
       "    </tr>\n",
       "    <tr>\n",
       "      <th>3</th>\n",
       "      <td>3.704</td>\n",
       "      <td>0.904</td>\n",
       "    </tr>\n",
       "    <tr>\n",
       "      <th>4</th>\n",
       "      <td>3.716</td>\n",
       "      <td>1.118</td>\n",
       "    </tr>\n",
       "  </tbody>\n",
       "</table>\n",
       "</div>"
      ],
      "text/plain": [
       "       x      y\n",
       "0  3.588  0.473\n",
       "1  3.551  0.784\n",
       "2  3.610  0.847\n",
       "3  3.704  0.904\n",
       "4  3.716  1.118"
      ]
     },
     "execution_count": 402,
     "metadata": {},
     "output_type": "execute_result"
    }
   ],
   "source": [
    "df3.head()"
   ]
  },
  {
   "cell_type": "code",
   "execution_count": 403,
   "metadata": {},
   "outputs": [
    {
     "data": {
      "text/plain": [
       "(50, 2)"
      ]
     },
     "execution_count": 403,
     "metadata": {},
     "output_type": "execute_result"
    }
   ],
   "source": [
    "df3.shape"
   ]
  },
  {
   "cell_type": "code",
   "execution_count": 404,
   "metadata": {},
   "outputs": [
    {
     "data": {
      "image/png": "[encoded data removed]",
      "text/plain": [
       "<matplotlib.figure.Figure at 0x2d0a0115cc0>"
      ]
     },
     "metadata": {},
     "output_type": "display_data"
    }
   ],
   "source": [
    "plt.scatter(data=df3,x='x',y='y')\n",
    "plt.show()"
   ]
  },
  {
   "cell_type": "code",
   "execution_count": 8,
   "metadata": {},
   "outputs": [],
   "source": [
    "X_3 = df3.x.values\n",
    "y_3 = df3.y.values"
   ]
  },
  {
   "cell_type": "code",
   "execution_count": 406,
   "metadata": {},
   "outputs": [],
   "source": [
    "X3_train,X3_test, y3_train, y3_test = train_test_split(X_3, y_3, train_size=0.5,test_size=0.5, random_state=0)"
   ]
  },
  {
   "cell_type": "code",
   "execution_count": 407,
   "metadata": {},
   "outputs": [],
   "source": [
    "#fit a polynomial of dgerees 10 to train set\n",
    "\n",
    "from sklearn.preprocessing import PolynomialFeatures\n",
    "\n",
    "#create polynomial features\n",
    "poly_obj = PolynomialFeatures(degree=10,include_bias=False)\n",
    "X_poly = poly_obj.fit_transform(X3_train[:,np.newaxis])"
   ]
  },
  {
   "cell_type": "code",
   "execution_count": 408,
   "metadata": {},
   "outputs": [
    {
     "name": "stdout",
     "output_type": "stream",
     "text": [
      "Shape: (25, 10)\n",
      "Features: ['x0', 'x0^2', 'x0^3', 'x0^4', 'x0^5', 'x0^6', 'x0^7', 'x0^8', 'x0^9', 'x0^10']\n"
     ]
    }
   ],
   "source": [
    "print('Shape:', X_poly.shape)\n",
    "print('Features:', poly_obj.get_feature_names())"
   ]
  },
  {
   "cell_type": "code",
   "execution_count": 409,
   "metadata": {},
   "outputs": [
    {
     "data": {
      "text/plain": [
       "LinearRegression(copy_X=True, fit_intercept=True, n_jobs=1, normalize=False)"
      ]
     },
     "execution_count": 409,
     "metadata": {},
     "output_type": "execute_result"
    }
   ],
   "source": [
    "#fit a simple LR using the train set\n",
    "lr3 = LinearRegression()\n",
    "lr3.fit(X_poly,y3_train)"
   ]
  },
  {
   "cell_type": "code",
   "execution_count": 412,
   "metadata": {},
   "outputs": [
    {
     "name": "stdout",
     "output_type": "stream",
     "text": [
      "RSS of train set: 0.684100772235\n",
      "RSS on test set: 1.5136920211\n"
     ]
    }
   ],
   "source": [
    "y3_train_pred = lr3.predict(X_poly)\n",
    "print ('RSS of train set:', RSS(y3_train,y3_train_pred))\n",
    "\n",
    "X_test_poly = poly_obj.fit_transform(X3_test[:,np.newaxis])\n",
    "y3_test_pred = lr3.predict(X_test_poly)\n",
    "print ('RSS on test set:', RSS(y3_test,y3_test_pred))"
   ]
  },
  {
   "cell_type": "markdown",
   "metadata": {},
   "source": [
    "##### Yes, the model is overfitting as the RSS on train set is lower than the RSS on the test set. Also means that the model failed to generalize to the test data points."
   ]
  },
  {
   "cell_type": "code",
   "execution_count": 413,
   "metadata": {},
   "outputs": [],
   "source": [
    "x3_random = np.linspace(min(X_3),max(X_3),num=50)\n",
    "x3_random_poly = poly_obj.fit_transform(x3_random[:,np.newaxis])\n",
    "y3_model = lr3.predict(x3_random_poly)"
   ]
  },
  {
   "cell_type": "code",
   "execution_count": 414,
   "metadata": {},
   "outputs": [
    {
     "data": {
      "image/png": "[encoded data removed]",
      "text/plain": [
       "<matplotlib.figure.Figure at 0x2d09e8bb668>"
      ]
     },
     "metadata": {},
     "output_type": "display_data"
    }
   ],
   "source": [
    "plt.scatter(data=df3,x='x',y='y')\n",
    "plt.plot(x3_random,y3_model,color='r',label='polyfit(10deg)')\n",
    "plt.legend()\n",
    "plt.show()"
   ]
  },
  {
   "cell_type": "code",
   "execution_count": 423,
   "metadata": {},
   "outputs": [],
   "source": [
    "#regularization with Ridge Regression\n",
    "from sklearn.linear_model import Ridge"
   ]
  },
  {
   "cell_type": "markdown",
   "metadata": {},
   "source": [
    "#### tune regularization strength using grid search"
   ]
  },
  {
   "cell_type": "code",
   "execution_count": 424,
   "metadata": {},
   "outputs": [],
   "source": [
    "#define alphas\n",
    "alphas = np.logspace(-20,10,num=100)"
   ]
  },
  {
   "cell_type": "code",
   "execution_count": 425,
   "metadata": {
    "scrolled": true
   },
   "outputs": [
    {
     "name": "stderr",
     "output_type": "stream",
     "text": [
      "c:\\users\\zuriati\\anaconda3\\lib\\site-packages\\scipy\\linalg\\basic.py:223: RuntimeWarning: scipy.linalg.solve\n",
      "Ill-conditioned matrix detected. Result is not guaranteed to be accurate.\n",
      "Reciprocal condition number: 1.1944239196496363e-18\n",
      "  ' condition number: {}'.format(rcond), RuntimeWarning)\n",
      "c:\\users\\zuriati\\anaconda3\\lib\\site-packages\\scipy\\linalg\\basic.py:223: RuntimeWarning: scipy.linalg.solve\n",
      "Ill-conditioned matrix detected. Result is not guaranteed to be accurate.\n",
      "Reciprocal condition number: 1.2174312873182189e-18\n",
      "  ' condition number: {}'.format(rcond), RuntimeWarning)\n",
      "c:\\users\\zuriati\\anaconda3\\lib\\site-packages\\scipy\\linalg\\basic.py:223: RuntimeWarning: scipy.linalg.solve\n",
      "Ill-conditioned matrix detected. Result is not guaranteed to be accurate.\n",
      "Reciprocal condition number: 1.2227441155519403e-18\n",
      "  ' condition number: {}'.format(rcond), RuntimeWarning)\n",
      "c:\\users\\zuriati\\anaconda3\\lib\\site-packages\\scipy\\linalg\\basic.py:223: RuntimeWarning: scipy.linalg.solve\n",
      "Ill-conditioned matrix detected. Result is not guaranteed to be accurate.\n",
      "Reciprocal condition number: 1.1136593019254723e-18\n",
      "  ' condition number: {}'.format(rcond), RuntimeWarning)\n",
      "c:\\users\\zuriati\\anaconda3\\lib\\site-packages\\scipy\\linalg\\basic.py:223: RuntimeWarning: scipy.linalg.solve\n",
      "Ill-conditioned matrix detected. Result is not guaranteed to be accurate.\n",
      "Reciprocal condition number: 1.2109014032065084e-18\n",
      "  ' condition number: {}'.format(rcond), RuntimeWarning)\n",
      "c:\\users\\zuriati\\anaconda3\\lib\\site-packages\\scipy\\linalg\\basic.py:223: RuntimeWarning: scipy.linalg.solve\n",
      "Ill-conditioned matrix detected. Result is not guaranteed to be accurate.\n",
      "Reciprocal condition number: 1.4420317661536028e-18\n",
      "  ' condition number: {}'.format(rcond), RuntimeWarning)\n",
      "c:\\users\\zuriati\\anaconda3\\lib\\site-packages\\scipy\\linalg\\basic.py:223: RuntimeWarning: scipy.linalg.solve\n",
      "Ill-conditioned matrix detected. Result is not guaranteed to be accurate.\n",
      "Reciprocal condition number: 1.3648463139921174e-18\n",
      "  ' condition number: {}'.format(rcond), RuntimeWarning)\n",
      "c:\\users\\zuriati\\anaconda3\\lib\\site-packages\\scipy\\linalg\\basic.py:223: RuntimeWarning: scipy.linalg.solve\n",
      "Ill-conditioned matrix detected. Result is not guaranteed to be accurate.\n",
      "Reciprocal condition number: 1.5295309990758846e-18\n",
      "  ' condition number: {}'.format(rcond), RuntimeWarning)\n",
      "c:\\users\\zuriati\\anaconda3\\lib\\site-packages\\scipy\\linalg\\basic.py:223: RuntimeWarning: scipy.linalg.solve\n",
      "Ill-conditioned matrix detected. Result is not guaranteed to be accurate.\n",
      "Reciprocal condition number: 1.5226722500376449e-18\n",
      "  ' condition number: {}'.format(rcond), RuntimeWarning)\n",
      "c:\\users\\zuriati\\anaconda3\\lib\\site-packages\\scipy\\linalg\\basic.py:223: RuntimeWarning: scipy.linalg.solve\n",
      "Ill-conditioned matrix detected. Result is not guaranteed to be accurate.\n",
      "Reciprocal condition number: 1.775015150666878e-18\n",
      "  ' condition number: {}'.format(rcond), RuntimeWarning)\n",
      "c:\\users\\zuriati\\anaconda3\\lib\\site-packages\\scipy\\linalg\\basic.py:223: RuntimeWarning: scipy.linalg.solve\n",
      "Ill-conditioned matrix detected. Result is not guaranteed to be accurate.\n",
      "Reciprocal condition number: 2.0198505912415823e-18\n",
      "  ' condition number: {}'.format(rcond), RuntimeWarning)\n",
      "c:\\users\\zuriati\\anaconda3\\lib\\site-packages\\scipy\\linalg\\basic.py:223: RuntimeWarning: scipy.linalg.solve\n",
      "Ill-conditioned matrix detected. Result is not guaranteed to be accurate.\n",
      "Reciprocal condition number: 2.255717362434555e-18\n",
      "  ' condition number: {}'.format(rcond), RuntimeWarning)\n",
      "c:\\users\\zuriati\\anaconda3\\lib\\site-packages\\scipy\\linalg\\basic.py:223: RuntimeWarning: scipy.linalg.solve\n",
      "Ill-conditioned matrix detected. Result is not guaranteed to be accurate.\n",
      "Reciprocal condition number: 2.591336747003564e-18\n",
      "  ' condition number: {}'.format(rcond), RuntimeWarning)\n",
      "c:\\users\\zuriati\\anaconda3\\lib\\site-packages\\scipy\\linalg\\basic.py:223: RuntimeWarning: scipy.linalg.solve\n",
      "Ill-conditioned matrix detected. Result is not guaranteed to be accurate.\n",
      "Reciprocal condition number: 3.1204693818634995e-18\n",
      "  ' condition number: {}'.format(rcond), RuntimeWarning)\n",
      "c:\\users\\zuriati\\anaconda3\\lib\\site-packages\\scipy\\linalg\\basic.py:223: RuntimeWarning: scipy.linalg.solve\n",
      "Ill-conditioned matrix detected. Result is not guaranteed to be accurate.\n",
      "Reciprocal condition number: 3.4189983555884488e-18\n",
      "  ' condition number: {}'.format(rcond), RuntimeWarning)\n",
      "c:\\users\\zuriati\\anaconda3\\lib\\site-packages\\scipy\\linalg\\basic.py:223: RuntimeWarning: scipy.linalg.solve\n",
      "Ill-conditioned matrix detected. Result is not guaranteed to be accurate.\n",
      "Reciprocal condition number: 2.8933912986792167e-18\n",
      "  ' condition number: {}'.format(rcond), RuntimeWarning)\n",
      "c:\\users\\zuriati\\anaconda3\\lib\\site-packages\\scipy\\linalg\\basic.py:223: RuntimeWarning: scipy.linalg.solve\n",
      "Ill-conditioned matrix detected. Result is not guaranteed to be accurate.\n",
      "Reciprocal condition number: 7.682281287204785e-19\n",
      "  ' condition number: {}'.format(rcond), RuntimeWarning)\n",
      "c:\\users\\zuriati\\anaconda3\\lib\\site-packages\\scipy\\linalg\\basic.py:223: RuntimeWarning: scipy.linalg.solve\n",
      "Ill-conditioned matrix detected. Result is not guaranteed to be accurate.\n",
      "Reciprocal condition number: 2.0327590267706778e-19\n",
      "  ' condition number: {}'.format(rcond), RuntimeWarning)\n",
      "c:\\users\\zuriati\\anaconda3\\lib\\site-packages\\scipy\\linalg\\basic.py:223: RuntimeWarning: scipy.linalg.solve\n",
      "Ill-conditioned matrix detected. Result is not guaranteed to be accurate.\n",
      "Reciprocal condition number: 1.0167121336181767e-18\n",
      "  ' condition number: {}'.format(rcond), RuntimeWarning)\n",
      "c:\\users\\zuriati\\anaconda3\\lib\\site-packages\\scipy\\linalg\\basic.py:223: RuntimeWarning: scipy.linalg.solve\n",
      "Ill-conditioned matrix detected. Result is not guaranteed to be accurate.\n",
      "Reciprocal condition number: 2.3696109101574467e-18\n",
      "  ' condition number: {}'.format(rcond), RuntimeWarning)\n",
      "c:\\users\\zuriati\\anaconda3\\lib\\site-packages\\scipy\\linalg\\basic.py:223: RuntimeWarning: scipy.linalg.solve\n",
      "Ill-conditioned matrix detected. Result is not guaranteed to be accurate.\n",
      "Reciprocal condition number: 4.681856271767961e-18\n",
      "  ' condition number: {}'.format(rcond), RuntimeWarning)\n",
      "c:\\users\\zuriati\\anaconda3\\lib\\site-packages\\scipy\\linalg\\basic.py:223: RuntimeWarning: scipy.linalg.solve\n",
      "Ill-conditioned matrix detected. Result is not guaranteed to be accurate.\n",
      "Reciprocal condition number: 1.451874521773145e-17\n",
      "  ' condition number: {}'.format(rcond), RuntimeWarning)\n",
      "c:\\users\\zuriati\\anaconda3\\lib\\site-packages\\scipy\\linalg\\basic.py:223: RuntimeWarning: scipy.linalg.solve\n",
      "Ill-conditioned matrix detected. Result is not guaranteed to be accurate.\n",
      "Reciprocal condition number: 1.2312578884215674e-17\n",
      "  ' condition number: {}'.format(rcond), RuntimeWarning)\n",
      "c:\\users\\zuriati\\anaconda3\\lib\\site-packages\\scipy\\linalg\\basic.py:223: RuntimeWarning: scipy.linalg.solve\n",
      "Ill-conditioned matrix detected. Result is not guaranteed to be accurate.\n",
      "Reciprocal condition number: 1.1704715286880216e-17\n",
      "  ' condition number: {}'.format(rcond), RuntimeWarning)\n",
      "c:\\users\\zuriati\\anaconda3\\lib\\site-packages\\scipy\\linalg\\basic.py:223: RuntimeWarning: scipy.linalg.solve\n",
      "Ill-conditioned matrix detected. Result is not guaranteed to be accurate.\n",
      "Reciprocal condition number: 1.119850145978049e-17\n",
      "  ' condition number: {}'.format(rcond), RuntimeWarning)\n",
      "c:\\users\\zuriati\\anaconda3\\lib\\site-packages\\scipy\\linalg\\basic.py:223: RuntimeWarning: scipy.linalg.solve\n",
      "Ill-conditioned matrix detected. Result is not guaranteed to be accurate.\n",
      "Reciprocal condition number: 1.0371747232243822e-17\n",
      "  ' condition number: {}'.format(rcond), RuntimeWarning)\n",
      "c:\\users\\zuriati\\anaconda3\\lib\\site-packages\\scipy\\linalg\\basic.py:223: RuntimeWarning: scipy.linalg.solve\n",
      "Ill-conditioned matrix detected. Result is not guaranteed to be accurate.\n",
      "Reciprocal condition number: 8.717336641481332e-18\n",
      "  ' condition number: {}'.format(rcond), RuntimeWarning)\n",
      "c:\\users\\zuriati\\anaconda3\\lib\\site-packages\\scipy\\linalg\\basic.py:223: RuntimeWarning: scipy.linalg.solve\n",
      "Ill-conditioned matrix detected. Result is not guaranteed to be accurate.\n",
      "Reciprocal condition number: 3.817482297535035e-18\n",
      "  ' condition number: {}'.format(rcond), RuntimeWarning)\n",
      "c:\\users\\zuriati\\anaconda3\\lib\\site-packages\\scipy\\linalg\\basic.py:223: RuntimeWarning: scipy.linalg.solve\n",
      "Ill-conditioned matrix detected. Result is not guaranteed to be accurate.\n",
      "Reciprocal condition number: 4.223757339440539e-18\n",
      "  ' condition number: {}'.format(rcond), RuntimeWarning)\n",
      "c:\\users\\zuriati\\anaconda3\\lib\\site-packages\\scipy\\linalg\\basic.py:223: RuntimeWarning: scipy.linalg.solve\n",
      "Ill-conditioned matrix detected. Result is not guaranteed to be accurate.\n",
      "Reciprocal condition number: 1.8865829224803177e-17\n",
      "  ' condition number: {}'.format(rcond), RuntimeWarning)\n",
      "c:\\users\\zuriati\\anaconda3\\lib\\site-packages\\scipy\\linalg\\basic.py:223: RuntimeWarning: scipy.linalg.solve\n",
      "Ill-conditioned matrix detected. Result is not guaranteed to be accurate.\n",
      "Reciprocal condition number: 4.2616141732119234e-17\n",
      "  ' condition number: {}'.format(rcond), RuntimeWarning)\n",
      "c:\\users\\zuriati\\anaconda3\\lib\\site-packages\\scipy\\linalg\\basic.py:223: RuntimeWarning: scipy.linalg.solve\n",
      "Ill-conditioned matrix detected. Result is not guaranteed to be accurate.\n",
      "Reciprocal condition number: 8.262731008507183e-17\n",
      "  ' condition number: {}'.format(rcond), RuntimeWarning)\n"
     ]
    }
   ],
   "source": [
    "train_scores = []\n",
    "test_scores = []\n",
    "\n",
    "for alpha in alphas:\n",
    "    ridge = Ridge(alpha=alpha)\n",
    "    ridge.fit(X_poly,y3_train)\n",
    "    \n",
    "    y3_train_pred = ridge.predict(X_poly)\n",
    "    train_scores.append(RSS(y3_train,y3_train_pred))\n",
    "    \n",
    "    y3_test_pred = ridge.predict(X_test_poly)\n",
    "    test_scores.append(RSS(y3_test,y3_test_pred))"
   ]
  },
  {
   "cell_type": "code",
   "execution_count": 426,
   "metadata": {},
   "outputs": [
    {
     "data": {
      "image/png": "[encoded data removed]",
      "text/plain": [
       "<matplotlib.figure.Figure at 0x2d09f4b0fd0>"
      ]
     },
     "metadata": {},
     "output_type": "display_data"
    }
   ],
   "source": [
    "# Plot the validation curves\n",
    "plt.semilogx(alphas, train_scores, label='train curve')\n",
    "plt.semilogx(alphas, test_scores, label='test curve')\n",
    "plt.xlabel('alphas')\n",
    "plt.ylabel('RSS')\n",
    "plt.legend()\n",
    "plt.show()"
   ]
  },
  {
   "cell_type": "markdown",
   "metadata": {},
   "source": [
    "Based on the graph, I would say that I want an alpha value where both the scores for test and train curve intersect or have the lowest difference."
   ]
  },
  {
   "cell_type": "code",
   "execution_count": 427,
   "metadata": {
    "scrolled": false
   },
   "outputs": [
    {
     "name": "stdout",
     "output_type": "stream",
     "text": [
      "Best alpha value 2.7e+02 with test score 1.24 and train score 1.27\n"
     ]
    }
   ],
   "source": [
    "diff = []\n",
    "for (train_score,test_score) in zip(train_scores,test_scores):\n",
    "    val = (np.abs(train_score - test_score))\n",
    "    diff.append(val)    \n",
    "\n",
    "idx = (np.argmin(diff))\n",
    "best_alpha = alphas[idx]\n",
    "test = test_scores[idx]\n",
    "train = train_scores[idx]\n",
    "\n",
    "print('Best alpha value {:.1e} with test score {:.2f} and train score {:.2f}'.format(best_alpha,test,train))"
   ]
  },
  {
   "cell_type": "code",
   "execution_count": 434,
   "metadata": {},
   "outputs": [
    {
     "name": "stdout",
     "output_type": "stream",
     "text": [
      "RSS for train set with tuned ridge model: 1.2754081322\n",
      "RSS for test set with tuned ridge model: 1.24323297825\n"
     ]
    }
   ],
   "source": [
    "#with best alpha value\n",
    "ridge2 = Ridge(alpha=2.7e+02)\n",
    "ridge2.fit(X_poly,y3_train)\n",
    "\n",
    "y3_train_pred = ridge2.predict(X_poly)\n",
    "print ('RSS for train set with tuned ridge model:',RSS(y3_train,y3_train_pred))\n",
    "    \n",
    "y3_test_pred = ridge2.predict(X_test_poly)\n",
    "print ('RSS for test set with tuned ridge model:',RSS(y3_test,y3_test_pred))"
   ]
  },
  {
   "cell_type": "code",
   "execution_count": 435,
   "metadata": {},
   "outputs": [
    {
     "data": {
      "image/png": "[encoded data removed]",
      "text/plain": [
       "<matplotlib.figure.Figure at 0x2d0a5fe9240>"
      ]
     },
     "metadata": {},
     "output_type": "display_data"
    }
   ],
   "source": [
    "x3_random = np.linspace(min(X_3),max(X_3),num=50)\n",
    "x3_random_poly = poly_obj.fit_transform(x3_random[:,np.newaxis])\n",
    "y3_model = ridge2.predict(x3_random_poly)\n",
    "\n",
    "plt.scatter(data=df3,x='x',y='y')\n",
    "plt.plot(x3_random,y3_model,c='r')\n",
    "plt.show()"
   ]
  },
  {
   "cell_type": "code",
   "execution_count": null,
   "metadata": {},
   "outputs": [],
   "source": []
  }
 ],
 "metadata": {
  "kernelspec": {
   "display_name": "Python 3",
   "language": "python",
   "name": "python3"
  },
  "language_info": {
   "codemirror_mode": {
    "name": "ipython",
    "version": 3
   },
   "file_extension": ".py",
   "mimetype": "text/x-python",
   "name": "python",
   "nbconvert_exporter": "python",
   "pygments_lexer": "ipython3",
   "version": "3.6.3"
  }
 },
 "nbformat": 4,
 "nbformat_minor": 2
}
